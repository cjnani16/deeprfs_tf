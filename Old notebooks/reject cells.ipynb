{
 "cells": [
  {
   "cell_type": "code",
   "execution_count": null,
   "metadata": {},
   "outputs": [],
   "source": [
    "import innvestigate\n",
    "import innvestigate.utils\n",
    "\n",
    "# Strip softmax layer\n",
    "model2_nsm = innvestigate.utils.model_wo_softmax(model2)\n",
    "\n",
    "# Create analyzer\n",
    "#analyzer = innvestigate.create_analyzer(\"lrp.\", model2_nsm)\n",
    "analyzer = innvestigate.analyzer.relevance_based.relevance_analyzer.LRPEpsilonIgnoreBias(model2_nsm)\n",
    "\n",
    "a = np.zeros((101,224,224))\n",
    "print(a.shape)\n",
    "\n",
    "#split the job and analyze all 101 images\n",
    "N=10\n",
    "L=N\n",
    "for i in range(11):\n",
    "    #shrink the last job to fit\n",
    "    if (((i*N)+L)>101):\n",
    "        L = 101 - i*N\n",
    "\n",
    "    print('analyzing images',i*N,\"to\",i*N+L,\"...\")\n",
    "    image=batch[i*N:i*N+L]\n",
    "\n",
    "    # Apply analyzer w.r.t. maximum activated output-neuron\n",
    "    an = analyzer.analyze(image)\n",
    "\n",
    "    # Aggregate along color channels and normalize to [-1, 1]\n",
    "    print(1,a[i*N:i*N+L].shape)\n",
    "    a[i*N:i*N+L] = an.sum(axis=np.argmax(np.asarray(an.shape) == 3))\n",
    "    a[i*N:i*N+L] /= np.max(np.abs(a[i*N:i*N+L]))"
   ]
  },
  {
   "cell_type": "code",
   "execution_count": null,
   "metadata": {},
   "outputs": [],
   "source": [
    "# Plot\n",
    "for i in range (len(batch)):\n",
    "    plt.figure(figsize=(10, 4))\n",
    "    plt.subplot(1,4,1)\n",
    "    plt.imshow(a[i], cmap=\"seismic\", clim=(-1, 1))\n",
    "    plt.subplot(1,4,2)\n",
    "    plt.imshow(batch[i]/255 + 0.5)\n",
    "    plt.subplot(1,4,3)\n",
    "    a_filt = scipy.ndimage.maximum_filter(a[i],footprint=np.ones((3,3)))\n",
    "    plt.imshow(a_filt, cmap=\"seismic\", clim=[-1,1])\n",
    "    plt.subplot(1,4,4)\n",
    "    a_filt2 = scipy.ndimage.minimum_filter(a[i],footprint=np.ones((3,3)))\n",
    "    plt.imshow(a_filt2, cmap=\"seismic\", clim=[-1,1])"
   ]
  },
  {
   "cell_type": "markdown",
   "metadata": {},
   "source": [
    "Consider statistics"
   ]
  },
  {
   "cell_type": "code",
   "execution_count": null,
   "metadata": {},
   "outputs": [],
   "source": [
    "total, eyes, nose, mouth, brow, outside, inside = [], [], [], [] ,[], [], [];\n",
    "plt.figure(figsize=(20,10))\n",
    "plt.subplots_adjust(hspace = 0.4)\n",
    "for i in range (len(batch)):\n",
    "    #print(front_view_filenames[i])\n",
    "    total.append(np.sum(np.abs(a[i])))\n",
    "    #print(\"total relevance:\",total[i])\n",
    "    eyes.append(np.sum(np.abs(a[i][100:130,60:160])) / total[i])\n",
    "    #print(\"eyes relevance:\",eyes[i])\n",
    "    nose.append(np.sum(np.abs(a[i][120:160,90:130])) / total[i])\n",
    "    #print(\"nose relevance:\",nose[i])\n",
    "    mouth.append(np.sum(np.abs(a[i][160:190,75:145])) / total[i])\n",
    "    #print(\"mouth relevance:\",mouth[i])\n",
    "    brow.append(np.sum(np.abs(a[i][70:100,50:170])) / total[i])\n",
    "    #print(\"brow relevance:\",brow[i])\n",
    "    \n",
    "    outside.append(1-(eyes[i]+nose[i]+mouth[i]+brow[i]))\n",
    "    inside.append((eyes[i]+nose[i]+mouth[i]+brow[i]))\n",
    "    \n",
    "    if i <= 4:\n",
    "        plt.subplot(2,3,i+1)\n",
    "        plt.title(\"Relevance of features, Identity \"+front_view_filenames[i].split(\"/\")[3])\n",
    "        plt.bar(x=[ \"eyes\", \"nose\", \"mouth\", \"brow\"],height=[ eyes[i]*100, nose[i]*100, mouth[i]*100, brow[i]*100])\n",
    "        plt.grid(axis='y')\n",
    "        plt.xlabel('face region')\n",
    "        plt.ylabel('% of total absolute relevance')\n",
    "    \n",
    "plt.subplot(2,3,6)\n",
    "plt.title(\"Relevance of features, Average (N=101)\")\n",
    "plt.bar(x=[ \"eyes\", \"nose\", \"mouth\", \"brow\"],\n",
    "        height=[ np.mean(eyes)*100,  np.mean(nose)*100,  np.mean(mouth)*100,  np.mean(brow)*100],\n",
    "        yerr = [ np.std(eyes)*100,  np.std(nose)*100,  np.std(mouth)*100,  np.std(brow)*100])\n",
    "plt.grid(axis='y')\n",
    "plt.xlabel('face region')\n",
    "plt.ylabel('% of total absolute relevance');"
   ]
  },
  {
   "cell_type": "code",
   "execution_count": null,
   "metadata": {},
   "outputs": [],
   "source": [
    "plt.figure()\n",
    "plt.bar(x=[ \"internal\", \"external\"],\n",
    "        height=[ np.mean(inside)*100,  np.mean(outside)*100],\n",
    "        yerr = [ np.std(inside)*100,  np.std(outside)*100])\n",
    "plt.grid(axis='y')\n",
    "plt.xlabel('face region')\n",
    "plt.ylabel('% of total absolute relevance');\n",
    "plt.title(\"Relevance of internal vs. external features\")"
   ]
  },
  {
   "cell_type": "code",
   "execution_count": null,
   "metadata": {},
   "outputs": [],
   "source": [
    "avg_face_forward = np.mean(batch, axis=(0))\n",
    "avg_rel_forward = np.mean(a, axis=(0))\n",
    "avg_rel_forward /= np.max(np.abs(avg_rel_forward))\n",
    "\n",
    "plt.figure(figsize=(10,3))\n",
    "plt.subplot(1,2,1)\n",
    "plt.imshow(avg_rel_forward, cmap=\"seismic\", clim=[-1,1])\n",
    "plt.title('Average relevance map (N=101)')\n",
    "plt.colorbar()\n",
    "plt.subplot(1,2,2)\n",
    "plt.imshow(avg_face_forward/255 + 0.5)\n",
    "plt.title(\"Average face image (N=101)\")"
   ]
  },
  {
   "cell_type": "code",
   "execution_count": null,
   "metadata": {},
   "outputs": [],
   "source": [
    "masks = []\n",
    "features = [\"cheeks\",\"hair\",\"chin\",\"mouth\",\"nose\",\"brows\",\"eyes\"]\n",
    "results = []\n",
    "pixels = []\n",
    "densities = []\n",
    "\n",
    "total = np.sum(np.abs(avg_rel_forward))\n",
    "for i in range(len(features)):\n",
    "    masks.append(np.mean(np.array(image_utils.load_img(\"./masks/mask_\"+features[i]+\".png\",target_size=(224, 224)))/255.0,axis=-1))\n",
    "    plt.subplot(1,7,i+1)\n",
    "    plt.imshow(masks[i])\n",
    "    plt.title(features[i])\n",
    "\n",
    "    pixels.append(np.sum(masks[i]))\n",
    "    results.append(np.sum(np.abs(masks[i]*avg_rel_forward)/total))\n",
    "    densities.append(results[i]/pixels[i])\n",
    "    \n",
    "plt.figure()\n",
    "plt.bar(x=features,\n",
    "        height=results)\n",
    "plt.grid(axis='y')\n",
    "plt.xlabel('face region')\n",
    "plt.ylabel('% of total absolute relevance');\n",
    "plt.title(\"Relevance of internal features in averaged face (N=101)\")"
   ]
  },
  {
   "cell_type": "code",
   "execution_count": null,
   "metadata": {},
   "outputs": [],
   "source": [
    "plt.figure()\n",
    "plt.bar(x=features,\n",
    "        height=densities)\n",
    "plt.grid(axis='y')\n",
    "plt.xlabel('face region')\n",
    "plt.ylabel('% of total absolute relevance per pixel');\n",
    "plt.title(\"Relevance \\\"density\\\" of internal features in averaged face (N=101)\")"
   ]
  }
 ],
 "metadata": {
  "kernelspec": {
   "display_name": "Python 3",
   "language": "python",
   "name": "python3"
  },
  "language_info": {
   "codemirror_mode": {
    "name": "ipython",
    "version": 3
   },
   "file_extension": ".py",
   "mimetype": "text/x-python",
   "name": "python",
   "nbconvert_exporter": "python",
   "pygments_lexer": "ipython3",
   "version": "3.7.3"
  }
 },
 "nbformat": 4,
 "nbformat_minor": 2
}
