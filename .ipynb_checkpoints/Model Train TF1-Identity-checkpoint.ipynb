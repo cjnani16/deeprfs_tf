{
 "cells": [
  {
   "cell_type": "code",
   "execution_count": 1,
   "metadata": {
    "scrolled": true
   },
   "outputs": [
    {
     "name": "stderr",
     "output_type": "stream",
     "text": [
      "Using TensorFlow backend.\n"
     ]
    },
    {
     "name": "stdout",
     "output_type": "stream",
     "text": [
      "[name: \"/device:CPU:0\"\n",
      "device_type: \"CPU\"\n",
      "memory_limit: 268435456\n",
      "locality {\n",
      "}\n",
      "incarnation: 3417351522136052139\n",
      ", name: \"/device:XLA_CPU:0\"\n",
      "device_type: \"XLA_CPU\"\n",
      "memory_limit: 17179869184\n",
      "locality {\n",
      "}\n",
      "incarnation: 11188454418846601018\n",
      "physical_device_desc: \"device: XLA_CPU device\"\n",
      ", name: \"/device:XLA_GPU:0\"\n",
      "device_type: \"XLA_GPU\"\n",
      "memory_limit: 17179869184\n",
      "locality {\n",
      "}\n",
      "incarnation: 5301260500446547728\n",
      "physical_device_desc: \"device: XLA_GPU device\"\n",
      ", name: \"/device:GPU:0\"\n",
      "device_type: \"GPU\"\n",
      "memory_limit: 23692863079\n",
      "locality {\n",
      "  bus_id: 1\n",
      "  links {\n",
      "  }\n",
      "}\n",
      "incarnation: 6497118028639243545\n",
      "physical_device_desc: \"device: 0, name: TITAN RTX, pci bus id: 0000:65:00.0, compute capability: 7.5\"\n",
      "]\n"
     ]
    }
   ],
   "source": [
    "import os\n",
    "import cv2\n",
    "import numpy as np\n",
    "import scipy.io\n",
    "\n",
    "import datetime as dt\n",
    "import matplotlib.pyplot as plt\n",
    "\n",
    "import tensorflow as tf\n",
    "import keras\n",
    "import keras.backend as K\n",
    "from keras.layers import Dense, Flatten, Conv2D, GlobalAveragePooling2D\n",
    "from keras import Model\n",
    "from keras.applications import vgg16\n",
    "from keras.preprocessing import image as image_utils\n",
    "from keras.models import load_model\n",
    "\n",
    "from tensorflow.python.client import device_lib\n",
    "print(device_lib.list_local_devices())\n",
    "\n",
    "import file_locations"
   ]
  },
  {
   "cell_type": "markdown",
   "metadata": {},
   "source": [
    "## Import and Update Class Size for VPNL-Identity"
   ]
  },
  {
   "cell_type": "code",
   "execution_count": 31,
   "metadata": {},
   "outputs": [
    {
     "name": "stdout",
     "output_type": "stream",
     "text": [
      "_________________________________________________________________\n",
      "Layer (type)                 Output Shape              Param #   \n",
      "=================================================================\n",
      "input_2 (InputLayer)         (None, 224, 224, 3)       0         \n",
      "_________________________________________________________________\n",
      "block1_conv1 (Conv2D)        (None, 224, 224, 64)      1792      \n",
      "_________________________________________________________________\n",
      "block1_conv2 (Conv2D)        (None, 224, 224, 64)      36928     \n",
      "_________________________________________________________________\n",
      "block1_pool (MaxPooling2D)   (None, 112, 112, 64)      0         \n",
      "_________________________________________________________________\n",
      "block2_conv1 (Conv2D)        (None, 112, 112, 128)     73856     \n",
      "_________________________________________________________________\n",
      "block2_conv2 (Conv2D)        (None, 112, 112, 128)     147584    \n",
      "_________________________________________________________________\n",
      "block2_pool (MaxPooling2D)   (None, 56, 56, 128)       0         \n",
      "_________________________________________________________________\n",
      "block3_conv1 (Conv2D)        (None, 56, 56, 256)       295168    \n",
      "_________________________________________________________________\n",
      "block3_conv2 (Conv2D)        (None, 56, 56, 256)       590080    \n",
      "_________________________________________________________________\n",
      "block3_conv3 (Conv2D)        (None, 56, 56, 256)       590080    \n",
      "_________________________________________________________________\n",
      "block3_pool (MaxPooling2D)   (None, 28, 28, 256)       0         \n",
      "_________________________________________________________________\n",
      "block4_conv1 (Conv2D)        (None, 28, 28, 512)       1180160   \n",
      "_________________________________________________________________\n",
      "block4_conv2 (Conv2D)        (None, 28, 28, 512)       2359808   \n",
      "_________________________________________________________________\n",
      "block4_conv3 (Conv2D)        (None, 28, 28, 512)       2359808   \n",
      "_________________________________________________________________\n",
      "block4_pool (MaxPooling2D)   (None, 14, 14, 512)       0         \n",
      "_________________________________________________________________\n",
      "block5_conv1 (Conv2D)        (None, 14, 14, 512)       2359808   \n",
      "_________________________________________________________________\n",
      "block5_conv2 (Conv2D)        (None, 14, 14, 512)       2359808   \n",
      "_________________________________________________________________\n",
      "block5_conv3 (Conv2D)        (None, 14, 14, 512)       2359808   \n",
      "_________________________________________________________________\n",
      "block5_pool (MaxPooling2D)   (None, 7, 7, 512)         0         \n",
      "_________________________________________________________________\n",
      "flatten (Flatten)            (None, 25088)             0         \n",
      "_________________________________________________________________\n",
      "fc1 (Dense)                  (None, 4096)              102764544 \n",
      "_________________________________________________________________\n",
      "fc2 (Dense)                  (None, 4096)              16781312  \n",
      "_________________________________________________________________\n",
      "dense (Dense)                (None, 2048)              8390656   \n",
      "_________________________________________________________________\n",
      "dense2 (Dense)               (None, 2048)              4196352   \n",
      "_________________________________________________________________\n",
      "predictions (Dense)          (None, 101)               206949    \n",
      "=================================================================\n",
      "Total params: 147,054,501\n",
      "Trainable params: 29,575,269\n",
      "Non-trainable params: 117,479,232\n",
      "_________________________________________________________________\n"
     ]
    }
   ],
   "source": [
    "#finetuning model setup (might want to take those 2 fc's.. this is a lot of params)\n",
    "RETRAIN_NUM_CLASSES = 101\n",
    "\n",
    "#HAVE to remove these or it won't TRAIN!!\n",
    "#K.set_learning_phase(0)\n",
    "\n",
    "base_model = load_model(file_locations.PATH_TO_CHECKPOINTS+'2020.02.24-0420-imdbage/2020.02.24-0420-imdbage0.weights.hdf5')#vgg16.VGG16(weights='imagenet', include_top=True, pooling = 'avg', classes=1000, input_shape=(224,224,3))\n",
    "\n",
    "for layer in base_model.layers[:-3]:\n",
    "    layer.trainable = False\n",
    "\n",
    "x = base_model.layers[-2].output\n",
    "hidden = Dense(2048, name='dense2', activation='relu', kernel_regularizer=keras.regularizers.l2(0.01))(x) \n",
    "predictions = Dense(RETRAIN_NUM_CLASSES, name='predictions', activation='softmax', kernel_regularizer=keras.regularizers.l2(0.01))(hidden) \n",
    "model = Model(inputs=base_model.input, outputs=predictions)\n",
    "\n",
    "#K.set_learning_phase(1)\n",
    "\n",
    "model.summary()"
   ]
  },
  {
   "cell_type": "code",
   "execution_count": 20,
   "metadata": {},
   "outputs": [],
   "source": [
    "datagen = keras.preprocessing.image.ImageDataGenerator(\n",
    "    featurewise_center=False, \n",
    "    samplewise_center=False, \n",
    "    featurewise_std_normalization=False, \n",
    "    samplewise_std_normalization=False, \n",
    "    zca_whitening=False, \n",
    "    zca_epsilon=1e-06, \n",
    "    rotation_range=0, \n",
    "    width_shift_range=0.0, \n",
    "    height_shift_range=0.0, \n",
    "    brightness_range=None, \n",
    "    shear_range=0.0, \n",
    "    zoom_range=0.0, \n",
    "    channel_shift_range=0.0, \n",
    "    fill_mode='nearest', \n",
    "    cval=0.0, \n",
    "    horizontal_flip=False, \n",
    "    vertical_flip=False, \n",
    "    rescale=None, \n",
    "    preprocessing_function=vgg16.preprocess_input, \n",
    "    data_format=None, \n",
    "    validation_split=0.2, \n",
    "    dtype=None)"
   ]
  },
  {
   "cell_type": "code",
   "execution_count": 21,
   "metadata": {},
   "outputs": [
    {
     "name": "stdout",
     "output_type": "stream",
     "text": [
      "Found 1212 images belonging to 101 classes.\n",
      "Found 1212 images belonging to 101 classes.\n"
     ]
    }
   ],
   "source": [
    "BS = 32\n",
    "\n",
    "train_it = datagen.flow_from_directory(file_locations.PATH_TO_VPNL_ID, class_mode = 'categorical', batch_size=BS, target_size=(224,224), shuffle=True, subset='training', seed=1337)\n",
    "val_it = datagen.flow_from_directory(file_locations.PATH_TO_VPNL_ID, class_mode='categorical', batch_size=BS, target_size=(224,224), shuffle=True, subset='training', seed=1337)"
   ]
  },
  {
   "cell_type": "markdown",
   "metadata": {},
   "source": [
    "## Model Finetuning"
   ]
  },
  {
   "cell_type": "code",
   "execution_count": 28,
   "metadata": {},
   "outputs": [],
   "source": [
    "#create directory for checkpoints and set name (only run this once to start)\n",
    "model_filename = file_locations.PATH_TO_CHECKPOINTS+'{}'.format(dt.datetime.now().strftime(\"%Y.%m.%d-%H%M\"))+'-vpnlidentity-newage'\n",
    "os.mkdir(model_filename)\n",
    "model_filename += '/'+model_filename.split('/')[-1]\n",
    "\n",
    "model_number = 0;"
   ]
  },
  {
   "cell_type": "markdown",
   "metadata": {},
   "source": [
    "### Finetune run"
   ]
  },
  {
   "cell_type": "code",
   "execution_count": 32,
   "metadata": {},
   "outputs": [],
   "source": [
    "#callbacks to use during trinaing\n",
    "cpcb = keras.callbacks.ModelCheckpoint(\n",
    "    model_filename+str(model_number)+'.weights.hdf5', \n",
    "    monitor='val_categorical_accuracy', verbose=1, \n",
    "    save_best_only=True, \n",
    "    save_weights_only=False, \n",
    "    mode='auto')\n",
    "\n",
    "reduce_lr = keras.callbacks.ReduceLROnPlateau(monitor='val_categorical_accuracy', factor=0.1, patience=3, min_lr=0.00001, verbose=1)"
   ]
  },
  {
   "cell_type": "code",
   "execution_count": 33,
   "metadata": {},
   "outputs": [],
   "source": [
    "#choice of optimizer (noage only trained with adam!)\n",
    "#mx_opt = keras.optimizers.SGD(lr=0.1, momentum=0.9, decay=0.0005, nesterov=True)\n",
    "model.compile(optimizer = \"adam\", \n",
    "              loss = 'categorical_crossentropy', \n",
    "              metrics = ['categorical_accuracy']\n",
    "             )"
   ]
  },
  {
   "cell_type": "code",
   "execution_count": 34,
   "metadata": {
    "scrolled": true
   },
   "outputs": [
    {
     "name": "stdout",
     "output_type": "stream",
     "text": [
      "Epoch 1/25\n",
      "37/37 [==============================] - 10s 264ms/step - loss: 15.1138 - categorical_accuracy: 0.0101 - val_loss: 8.6594 - val_categorical_accuracy: 0.0136\n",
      "\n",
      "Epoch 00001: val_categorical_accuracy improved from -inf to 0.01356, saving model to /biac2/kgs/projects/deepRFs/checkpoints_vgg16/2020.02.24-1112-vpnlidentity-newage/2020.02.24-1112-vpnlidentity-newage0.weights.hdf5\n",
      "Epoch 2/25\n",
      "37/37 [==============================] - 6s 155ms/step - loss: 8.0030 - categorical_accuracy: 0.0093 - val_loss: 7.5119 - val_categorical_accuracy: 0.0153\n",
      "\n",
      "Epoch 00002: val_categorical_accuracy improved from 0.01356 to 0.01525, saving model to /biac2/kgs/projects/deepRFs/checkpoints_vgg16/2020.02.24-1112-vpnlidentity-newage/2020.02.24-1112-vpnlidentity-newage0.weights.hdf5\n",
      "Epoch 3/25\n",
      "37/37 [==============================] - 6s 158ms/step - loss: 7.1874 - categorical_accuracy: 0.0034 - val_loss: 6.8834 - val_categorical_accuracy: 0.0153\n",
      "\n",
      "Epoch 00003: val_categorical_accuracy did not improve from 0.01525\n",
      "Epoch 4/25\n",
      "37/37 [==============================] - 6s 167ms/step - loss: 6.6508 - categorical_accuracy: 0.0084 - val_loss: 6.4129 - val_categorical_accuracy: 0.0136\n",
      "\n",
      "Epoch 00004: val_categorical_accuracy did not improve from 0.01525\n",
      "Epoch 5/25\n",
      "37/37 [==============================] - 6s 164ms/step - loss: 6.2656 - categorical_accuracy: 0.0076 - val_loss: 6.0903 - val_categorical_accuracy: 0.0161\n",
      "\n",
      "Epoch 00005: val_categorical_accuracy improved from 0.01525 to 0.01610, saving model to /biac2/kgs/projects/deepRFs/checkpoints_vgg16/2020.02.24-1112-vpnlidentity-newage/2020.02.24-1112-vpnlidentity-newage0.weights.hdf5\n",
      "Epoch 6/25\n",
      "37/37 [==============================] - 6s 160ms/step - loss: 5.9479 - categorical_accuracy: 0.0068 - val_loss: 5.7951 - val_categorical_accuracy: 0.0059\n",
      "\n",
      "Epoch 00006: val_categorical_accuracy did not improve from 0.01610\n",
      "Epoch 7/25\n",
      "37/37 [==============================] - 6s 163ms/step - loss: 5.6883 - categorical_accuracy: 0.0059 - val_loss: 5.5066 - val_categorical_accuracy: 0.0229\n",
      "\n",
      "Epoch 00007: val_categorical_accuracy improved from 0.01610 to 0.02288, saving model to /biac2/kgs/projects/deepRFs/checkpoints_vgg16/2020.02.24-1112-vpnlidentity-newage/2020.02.24-1112-vpnlidentity-newage0.weights.hdf5\n",
      "Epoch 8/25\n",
      "37/37 [==============================] - 6s 163ms/step - loss: 5.4343 - categorical_accuracy: 0.0153 - val_loss: 5.2860 - val_categorical_accuracy: 0.0212\n",
      "\n",
      "Epoch 00008: val_categorical_accuracy did not improve from 0.02288\n",
      "Epoch 9/25\n",
      "37/37 [==============================] - 6s 160ms/step - loss: 5.2429 - categorical_accuracy: 0.0128 - val_loss: 5.1216 - val_categorical_accuracy: 0.0229\n",
      "\n",
      "Epoch 00009: val_categorical_accuracy did not improve from 0.02288\n",
      "Epoch 10/25\n",
      "37/37 [==============================] - 6s 163ms/step - loss: 5.1048 - categorical_accuracy: 0.0127 - val_loss: 5.0172 - val_categorical_accuracy: 0.0237\n",
      "\n",
      "Epoch 00010: val_categorical_accuracy improved from 0.02288 to 0.02373, saving model to /biac2/kgs/projects/deepRFs/checkpoints_vgg16/2020.02.24-1112-vpnlidentity-newage/2020.02.24-1112-vpnlidentity-newage0.weights.hdf5\n",
      "Epoch 11/25\n",
      "37/37 [==============================] - 6s 161ms/step - loss: 4.9737 - categorical_accuracy: 0.0127 - val_loss: 4.9022 - val_categorical_accuracy: 0.0203\n",
      "\n",
      "Epoch 00011: val_categorical_accuracy did not improve from 0.02373\n",
      "Epoch 12/25\n",
      "37/37 [==============================] - 6s 162ms/step - loss: 4.8612 - categorical_accuracy: 0.0152 - val_loss: 4.7788 - val_categorical_accuracy: 0.0212\n",
      "\n",
      "Epoch 00012: val_categorical_accuracy did not improve from 0.02373\n",
      "Epoch 13/25\n",
      "37/37 [==============================] - 6s 165ms/step - loss: 4.7986 - categorical_accuracy: 0.0101 - val_loss: 4.7410 - val_categorical_accuracy: 0.0195\n",
      "\n",
      "Epoch 00013: val_categorical_accuracy did not improve from 0.02373\n",
      "\n",
      "Epoch 00013: ReduceLROnPlateau reducing learning rate to 0.00010000000474974513.\n",
      "Epoch 14/25\n",
      "37/37 [==============================] - 6s 164ms/step - loss: 4.7082 - categorical_accuracy: 0.0203 - val_loss: 4.6787 - val_categorical_accuracy: 0.0203\n",
      "\n",
      "Epoch 00014: val_categorical_accuracy did not improve from 0.02373\n",
      "Epoch 15/25\n",
      "37/37 [==============================] - 6s 165ms/step - loss: 4.6769 - categorical_accuracy: 0.0153 - val_loss: 4.6619 - val_categorical_accuracy: 0.0194\n",
      "\n",
      "Epoch 00015: val_categorical_accuracy did not improve from 0.02373\n",
      "Epoch 16/25\n",
      "37/37 [==============================] - 6s 163ms/step - loss: 4.6565 - categorical_accuracy: 0.0215 - val_loss: 4.6435 - val_categorical_accuracy: 0.0203\n",
      "\n",
      "Epoch 00016: val_categorical_accuracy did not improve from 0.02373\n",
      "\n",
      "Epoch 00016: ReduceLROnPlateau reducing learning rate to 1.0000000474974514e-05.\n",
      "Epoch 17/25\n",
      "37/37 [==============================] - 6s 161ms/step - loss: 4.6565 - categorical_accuracy: 0.0160 - val_loss: 4.6321 - val_categorical_accuracy: 0.0212\n",
      "\n",
      "Epoch 00017: val_categorical_accuracy did not improve from 0.02373\n",
      "Epoch 18/25\n",
      "37/37 [==============================] - 6s 163ms/step - loss: 4.6255 - categorical_accuracy: 0.0211 - val_loss: 4.6414 - val_categorical_accuracy: 0.0212\n",
      "\n",
      "Epoch 00018: val_categorical_accuracy did not improve from 0.02373\n",
      "Epoch 19/25\n",
      "37/37 [==============================] - 6s 163ms/step - loss: 4.6385 - categorical_accuracy: 0.0212 - val_loss: 4.6399 - val_categorical_accuracy: 0.0195\n",
      "\n",
      "Epoch 00019: val_categorical_accuracy did not improve from 0.02373\n",
      "\n",
      "Epoch 00019: ReduceLROnPlateau reducing learning rate to 1e-05.\n",
      "Epoch 20/25\n",
      "37/37 [==============================] - 6s 164ms/step - loss: 4.6509 - categorical_accuracy: 0.0221 - val_loss: 4.6369 - val_categorical_accuracy: 0.0178\n",
      "\n",
      "Epoch 00020: val_categorical_accuracy did not improve from 0.02373\n",
      "Epoch 21/25\n",
      "37/37 [==============================] - 6s 164ms/step - loss: 4.6216 - categorical_accuracy: 0.0194 - val_loss: 4.6337 - val_categorical_accuracy: 0.0229\n",
      "\n",
      "Epoch 00021: val_categorical_accuracy did not improve from 0.02373\n",
      "Epoch 22/25\n",
      "37/37 [==============================] - 6s 162ms/step - loss: 4.6329 - categorical_accuracy: 0.0228 - val_loss: 4.6183 - val_categorical_accuracy: 0.0237\n",
      "\n",
      "Epoch 00022: val_categorical_accuracy did not improve from 0.02373\n",
      "Epoch 23/25\n",
      "37/37 [==============================] - 6s 167ms/step - loss: 4.6323 - categorical_accuracy: 0.0188 - val_loss: 4.6440 - val_categorical_accuracy: 0.0178\n",
      "\n",
      "Epoch 00023: val_categorical_accuracy did not improve from 0.02373\n",
      "Epoch 24/25\n",
      "37/37 [==============================] - 6s 171ms/step - loss: 4.6311 - categorical_accuracy: 0.0194 - val_loss: 4.6147 - val_categorical_accuracy: 0.0229\n",
      "\n",
      "Epoch 00024: val_categorical_accuracy did not improve from 0.02373\n",
      "Epoch 25/25\n",
      "37/37 [==============================] - 7s 202ms/step - loss: 4.6315 - categorical_accuracy: 0.0203 - val_loss: 4.6317 - val_categorical_accuracy: 0.0195\n",
      "\n",
      "Epoch 00025: val_categorical_accuracy did not improve from 0.02373\n"
     ]
    }
   ],
   "source": [
    "#training\n",
    "history = model.fit_generator(\n",
    "    train_it,\n",
    "    steps_per_epoch = train_it.samples // BS,\n",
    "    validation_data = val_it, \n",
    "    validation_steps = val_it.samples // BS,\n",
    "    epochs = 25,\n",
    "    callbacks = [ cpcb, reduce_lr ],\n",
    ")"
   ]
  },
  {
   "cell_type": "code",
   "execution_count": 35,
   "metadata": {},
   "outputs": [
    {
     "data": {
      "image/png": "[encoded data removed]",
      "text/plain": [
       "<Figure size 864x216 with 2 Axes>"
      ]
     },
     "metadata": {
      "needs_background": "light"
     },
     "output_type": "display_data"
    }
   ],
   "source": [
    "plt.figure(figsize=(12,3))\n",
    "plt.subplot(1,2,1)\n",
    "plt.plot(history.history['loss'])\n",
    "plt.plot(history.history['val_loss'])\n",
    "plt.title(\"Finetuning Loss - Identity\")\n",
    "plt.legend([\"train\",\"val\"])\n",
    "plt.subplot(1,2,2)\n",
    "plt.plot(history.history['categorical_accuracy'])\n",
    "plt.plot(history.history['val_categorical_accuracy'])\n",
    "plt.title(\"Finetuning Accuracy - Identity\")\n",
    "plt.legend([\"train\",\"val\"])\n",
    "plt.savefig(model_filename+str(model_number)+\".training.png\")\n",
    "plt.show()"
   ]
  },
  {
   "cell_type": "code",
   "execution_count": 36,
   "metadata": {},
   "outputs": [],
   "source": [
    "#save matlab file with training history for error bar construction later!\n",
    "scipy.io.savemat(model_filename+str(model_number)+'.history.mat', history.history)"
   ]
  },
  {
   "cell_type": "code",
   "execution_count": 13,
   "metadata": {},
   "outputs": [],
   "source": [
    "#next!\n",
    "model_number += 1;"
   ]
  },
  {
   "cell_type": "code",
   "execution_count": null,
   "metadata": {},
   "outputs": [],
   "source": []
  }
 ],
 "metadata": {
  "kernelspec": {
   "display_name": "Python 3",
   "language": "python",
   "name": "python3"
  },
  "language_info": {
   "codemirror_mode": {
    "name": "ipython",
    "version": 3
   },
   "file_extension": ".py",
   "mimetype": "text/x-python",
   "name": "python",
   "nbconvert_exporter": "python",
   "pygments_lexer": "ipython3",
   "version": "3.6.0"
  }
 },
 "nbformat": 4,
 "nbformat_minor": 2
}
