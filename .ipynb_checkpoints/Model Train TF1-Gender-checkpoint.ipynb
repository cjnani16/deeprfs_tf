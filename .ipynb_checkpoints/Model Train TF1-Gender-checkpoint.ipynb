{
 "cells": [
  {
   "cell_type": "code",
   "execution_count": 1,
   "metadata": {
    "scrolled": true
   },
   "outputs": [
    {
     "name": "stderr",
     "output_type": "stream",
     "text": [
      "Using TensorFlow backend.\n"
     ]
    },
    {
     "name": "stdout",
     "output_type": "stream",
     "text": [
      "[name: \"/device:CPU:0\"\n",
      "device_type: \"CPU\"\n",
      "memory_limit: 268435456\n",
      "locality {\n",
      "}\n",
      "incarnation: 2553284080649864138\n",
      ", name: \"/device:XLA_CPU:0\"\n",
      "device_type: \"XLA_CPU\"\n",
      "memory_limit: 17179869184\n",
      "locality {\n",
      "}\n",
      "incarnation: 2583938911036913011\n",
      "physical_device_desc: \"device: XLA_CPU device\"\n",
      ", name: \"/device:XLA_GPU:0\"\n",
      "device_type: \"XLA_GPU\"\n",
      "memory_limit: 17179869184\n",
      "locality {\n",
      "}\n",
      "incarnation: 13757410734057536945\n",
      "physical_device_desc: \"device: XLA_GPU device\"\n",
      ", name: \"/device:GPU:0\"\n",
      "device_type: \"GPU\"\n",
      "memory_limit: 23692925338\n",
      "locality {\n",
      "  bus_id: 1\n",
      "  links {\n",
      "  }\n",
      "}\n",
      "incarnation: 13960022476758191015\n",
      "physical_device_desc: \"device: 0, name: TITAN RTX, pci bus id: 0000:65:00.0, compute capability: 7.5\"\n",
      "]\n"
     ]
    }
   ],
   "source": [
    "import os\n",
    "import cv2\n",
    "import numpy as np\n",
    "import scipy.io\n",
    "\n",
    "import datetime as dt\n",
    "import matplotlib.pyplot as plt\n",
    "\n",
    "import tensorflow as tf\n",
    "import keras\n",
    "import keras.backend as K\n",
    "from keras.layers import Dense, Flatten, Conv2D, GlobalAveragePooling2D\n",
    "from keras import Model\n",
    "from keras.applications import vgg16\n",
    "from keras.preprocessing import image as image_utils\n",
    "from keras.models import load_model\n",
    "\n",
    "from tensorflow.python.client import device_lib\n",
    "print(device_lib.list_local_devices())\n",
    "\n",
    "import file_locations"
   ]
  },
  {
   "cell_type": "markdown",
   "metadata": {},
   "source": [
    "## Import and Update Class Size for VPNL-Gender"
   ]
  },
  {
   "cell_type": "code",
   "execution_count": 57,
   "metadata": {},
   "outputs": [
    {
     "name": "stdout",
     "output_type": "stream",
     "text": [
      "_________________________________________________________________\n",
      "Layer (type)                 Output Shape              Param #   \n",
      "=================================================================\n",
      "input_3 (InputLayer)         (None, 224, 224, 3)       0         \n",
      "_________________________________________________________________\n",
      "block1_conv1 (Conv2D)        (None, 224, 224, 64)      1792      \n",
      "_________________________________________________________________\n",
      "block1_conv2 (Conv2D)        (None, 224, 224, 64)      36928     \n",
      "_________________________________________________________________\n",
      "block1_pool (MaxPooling2D)   (None, 112, 112, 64)      0         \n",
      "_________________________________________________________________\n",
      "block2_conv1 (Conv2D)        (None, 112, 112, 128)     73856     \n",
      "_________________________________________________________________\n",
      "block2_conv2 (Conv2D)        (None, 112, 112, 128)     147584    \n",
      "_________________________________________________________________\n",
      "block2_pool (MaxPooling2D)   (None, 56, 56, 128)       0         \n",
      "_________________________________________________________________\n",
      "block3_conv1 (Conv2D)        (None, 56, 56, 256)       295168    \n",
      "_________________________________________________________________\n",
      "block3_conv2 (Conv2D)        (None, 56, 56, 256)       590080    \n",
      "_________________________________________________________________\n",
      "block3_conv3 (Conv2D)        (None, 56, 56, 256)       590080    \n",
      "_________________________________________________________________\n",
      "block3_pool (MaxPooling2D)   (None, 28, 28, 256)       0         \n",
      "_________________________________________________________________\n",
      "block4_conv1 (Conv2D)        (None, 28, 28, 512)       1180160   \n",
      "_________________________________________________________________\n",
      "block4_conv2 (Conv2D)        (None, 28, 28, 512)       2359808   \n",
      "_________________________________________________________________\n",
      "block4_conv3 (Conv2D)        (None, 28, 28, 512)       2359808   \n",
      "_________________________________________________________________\n",
      "block4_pool (MaxPooling2D)   (None, 14, 14, 512)       0         \n",
      "_________________________________________________________________\n",
      "block5_conv1 (Conv2D)        (None, 14, 14, 512)       2359808   \n",
      "_________________________________________________________________\n",
      "block5_conv2 (Conv2D)        (None, 14, 14, 512)       2359808   \n",
      "_________________________________________________________________\n",
      "block5_conv3 (Conv2D)        (None, 14, 14, 512)       2359808   \n",
      "_________________________________________________________________\n",
      "block5_pool (MaxPooling2D)   (None, 7, 7, 512)         0         \n",
      "_________________________________________________________________\n",
      "flatten (Flatten)            (None, 25088)             0         \n",
      "_________________________________________________________________\n",
      "fc1 (Dense)                  (None, 4096)              102764544 \n",
      "_________________________________________________________________\n",
      "fc2 (Dense)                  (None, 4096)              16781312  \n",
      "_________________________________________________________________\n",
      "dense (Dense)                (None, 2048)              8390656   \n",
      "_________________________________________________________________\n",
      "dense2 (Dense)               (None, 2048)              4196352   \n",
      "_________________________________________________________________\n",
      "predictions (Dense)          (None, 2)                 4098      \n",
      "=================================================================\n",
      "Total params: 146,851,650\n",
      "Trainable params: 4,200,450\n",
      "Non-trainable params: 142,651,200\n",
      "_________________________________________________________________\n"
     ]
    }
   ],
   "source": [
    "#finetuning model setup (might want to take those 2 fc's.. this is a lot of params)\n",
    "RETRAIN_NUM_CLASSES = 2\n",
    "\n",
    "K.set_learning_phase(0)\n",
    "\n",
    "base_model = load_model(file_locations.PATH_TO_CHECKPOINTS+'weights.2020.02.18-0203-imdbage.hdf5') #vgg16.VGG16(weights='imagenet', include_top=True, pooling = 'avg', classes=1000, input_shape=(224,224,3)) #\n",
    "\n",
    "for layer in base_model.layers[:-1]:\n",
    "    layer.trainable = False\n",
    "\n",
    "x = base_model.layers[-3].output\n",
    "hidden = Dense(2048, name='dense', activation='relu', kernel_regularizer=keras.regularizers.l2(0.01))(x) \n",
    "predictions = Dense(RETRAIN_NUM_CLASSES, name='predictions', activation='softmax', kernel_regularizer=keras.regularizers.l2(0.01))(hidden) \n",
    "model = Model(inputs=base_model.input, outputs=predictions)\n",
    "\n",
    "K.set_learning_phase(1)\n",
    "\n",
    "model.summary()"
   ]
  },
  {
   "cell_type": "code",
   "execution_count": 3,
   "metadata": {},
   "outputs": [],
   "source": [
    "datagen = keras.preprocessing.image.ImageDataGenerator(\n",
    "    featurewise_center=False, \n",
    "    samplewise_center=False, \n",
    "    featurewise_std_normalization=False, \n",
    "    samplewise_std_normalization=False, \n",
    "    zca_whitening=False, \n",
    "    zca_epsilon=1e-06, \n",
    "    rotation_range=0, \n",
    "    width_shift_range=0.0, \n",
    "    height_shift_range=0.0, \n",
    "    brightness_range=None, \n",
    "    shear_range=0.0, \n",
    "    zoom_range=0.0, \n",
    "    channel_shift_range=0.0, \n",
    "    fill_mode='nearest', \n",
    "    cval=0.0, \n",
    "    horizontal_flip=False, \n",
    "    vertical_flip=False, \n",
    "    rescale=None, \n",
    "    preprocessing_function=vgg16.preprocess_input, \n",
    "    data_format=None, \n",
    "    validation_split=0.2, \n",
    "    dtype=None)"
   ]
  },
  {
   "cell_type": "code",
   "execution_count": 4,
   "metadata": {},
   "outputs": [
    {
     "name": "stdout",
     "output_type": "stream",
     "text": [
      "Found 1212 images belonging to 2 classes.\n",
      "Found 1212 images belonging to 2 classes.\n"
     ]
    }
   ],
   "source": [
    "BS = 16\n",
    "\n",
    "train_it = datagen.flow_from_directory(file_locations.PATH_TO_VPNL_GENDER, class_mode = 'categorical', batch_size=BS, target_size=(224,224), shuffle=True, subset='training', seed=1337)\n",
    "val_it = datagen.flow_from_directory(file_locations.PATH_TO_VPNL_GENDER, class_mode='categorical', batch_size=BS, target_size=(224,224), shuffle=True, subset='training', seed=2391)"
   ]
  },
  {
   "cell_type": "markdown",
   "metadata": {},
   "source": [
    "## Model Finetuning"
   ]
  },
  {
   "cell_type": "code",
   "execution_count": 58,
   "metadata": {},
   "outputs": [],
   "source": [
    "#create directory for checkpoints and set name (only run this once to start)\n",
    "model_filename = file_locations.PATH_TO_CHECKPOINTS+'{}'.format(dt.datetime.now().strftime(\"%Y.%m.%d-%H%M\"))+'-vpnlgender'\n",
    "os.mkdir(model_filename)\n",
    "model_filename += '/'+model_filename.split('/')[-1]\n",
    "\n",
    "model_number = 0;"
   ]
  },
  {
   "cell_type": "markdown",
   "metadata": {},
   "source": [
    "### Finetune run"
   ]
  },
  {
   "cell_type": "code",
   "execution_count": 78,
   "metadata": {
    "scrolled": true
   },
   "outputs": [],
   "source": [
    "#callbacks to use during trinaing\n",
    "cpcb = keras.callbacks.ModelCheckpoint(\n",
    "    model_filename+str(model_number)+'.weights.hdf5', \n",
    "    monitor='val_categorical_accuracy', verbose=1, \n",
    "    save_best_only=True, \n",
    "    save_weights_only=False, \n",
    "    mode='auto')\n",
    "\n",
    "reduce_lr = keras.callbacks.ReduceLROnPlateau(monitor='val_categorical_accuracy', factor=0.1, patience=3, min_lr=0.00001, verbose=1)"
   ]
  },
  {
   "cell_type": "code",
   "execution_count": 79,
   "metadata": {},
   "outputs": [],
   "source": [
    "#choice of optimizer\n",
    "mx_opt = keras.optimizers.SGD(lr=0.01, momentum=0.9, decay=0.0005, nesterov=True)\n",
    "model.compile(optimizer = mx_opt, \n",
    "              loss = 'categorical_crossentropy', \n",
    "              metrics = ['categorical_accuracy']\n",
    "             )"
   ]
  },
  {
   "cell_type": "code",
   "execution_count": 80,
   "metadata": {
    "scrolled": true
   },
   "outputs": [
    {
     "name": "stdout",
     "output_type": "stream",
     "text": [
      "Epoch 1/25\n",
      "75/75 [==============================] - 11s 149ms/step - loss: 20.7378 - categorical_accuracy: 0.5767 - val_loss: 21.2142 - val_categorical_accuracy: 0.5552\n",
      "\n",
      "Epoch 00001: val_categorical_accuracy improved from -inf to 0.55518, saving model to /biac2/kgs/projects/deepRFs/checkpoints_vgg16/2020.02.23-2214-vpnlgender-addedlayer/2020.02.23-2214-vpnlgender-addedlayer3.weights.hdf5\n",
      "Epoch 2/25\n",
      "75/75 [==============================] - 7s 96ms/step - loss: 21.4767 - categorical_accuracy: 0.5389 - val_loss: 21.1868 - val_categorical_accuracy: 0.5569\n",
      "\n",
      "Epoch 00002: val_categorical_accuracy improved from 0.55518 to 0.55686, saving model to /biac2/kgs/projects/deepRFs/checkpoints_vgg16/2020.02.23-2214-vpnlgender-addedlayer/2020.02.23-2214-vpnlgender-addedlayer3.weights.hdf5\n",
      "Epoch 3/25\n",
      "75/75 [==============================] - 7s 95ms/step - loss: 21.0735 - categorical_accuracy: 0.5639 - val_loss: 21.1732 - val_categorical_accuracy: 0.5577\n",
      "\n",
      "Epoch 00003: val_categorical_accuracy improved from 0.55686 to 0.55769, saving model to /biac2/kgs/projects/deepRFs/checkpoints_vgg16/2020.02.23-2214-vpnlgender-addedlayer/2020.02.23-2214-vpnlgender-addedlayer3.weights.hdf5\n",
      "Epoch 4/25\n",
      "75/75 [==============================] - 8s 100ms/step - loss: 21.1940 - categorical_accuracy: 0.5564 - val_loss: 21.0383 - val_categorical_accuracy: 0.5661\n",
      "\n",
      "Epoch 00004: val_categorical_accuracy improved from 0.55769 to 0.56605, saving model to /biac2/kgs/projects/deepRFs/checkpoints_vgg16/2020.02.23-2214-vpnlgender-addedlayer/2020.02.23-2214-vpnlgender-addedlayer3.weights.hdf5\n",
      "Epoch 5/25\n",
      "75/75 [==============================] - 7s 94ms/step - loss: 21.3239 - categorical_accuracy: 0.5483 - val_loss: 21.4426 - val_categorical_accuracy: 0.5410\n",
      "\n",
      "Epoch 00005: val_categorical_accuracy did not improve from 0.56605\n",
      "Epoch 6/25\n",
      "75/75 [==============================] - 7s 95ms/step - loss: 21.0014 - categorical_accuracy: 0.5683 - val_loss: 21.3077 - val_categorical_accuracy: 0.5493\n",
      "\n",
      "Epoch 00006: val_categorical_accuracy did not improve from 0.56605\n",
      "Epoch 7/25\n",
      "75/75 [==============================] - 7s 94ms/step - loss: 21.4491 - categorical_accuracy: 0.5406 - val_loss: 21.3077 - val_categorical_accuracy: 0.5493\n",
      "\n",
      "Epoch 00007: val_categorical_accuracy did not improve from 0.56605\n",
      "\n",
      "Epoch 00007: ReduceLROnPlateau reducing learning rate to 0.00010000000474974513.\n",
      "Epoch 8/25\n",
      "75/75 [==============================] - 7s 94ms/step - loss: 21.1715 - categorical_accuracy: 0.5578 - val_loss: 21.0920 - val_categorical_accuracy: 0.5627\n",
      "\n",
      "Epoch 00008: val_categorical_accuracy did not improve from 0.56605\n",
      "Epoch 9/25\n",
      "75/75 [==============================] - 7s 94ms/step - loss: 21.1984 - categorical_accuracy: 0.5561 - val_loss: 21.1998 - val_categorical_accuracy: 0.5560\n",
      "\n",
      "Epoch 00009: val_categorical_accuracy did not improve from 0.56605\n",
      "Epoch 10/25\n",
      "75/75 [==============================] - 7s 95ms/step - loss: 21.2611 - categorical_accuracy: 0.5522 - val_loss: 21.1190 - val_categorical_accuracy: 0.5610\n",
      "\n",
      "Epoch 00010: val_categorical_accuracy did not improve from 0.56605\n",
      "\n",
      "Epoch 00010: ReduceLROnPlateau reducing learning rate to 1.0000000474974514e-05.\n",
      "Epoch 11/25\n",
      "75/75 [==============================] - 7s 94ms/step - loss: 21.2028 - categorical_accuracy: 0.5558 - val_loss: 21.3346 - val_categorical_accuracy: 0.5477\n",
      "\n",
      "Epoch 00011: val_categorical_accuracy did not improve from 0.56605\n",
      "Epoch 12/25\n",
      "75/75 [==============================] - 7s 97ms/step - loss: 21.2742 - categorical_accuracy: 0.5514 - val_loss: 21.3077 - val_categorical_accuracy: 0.5493\n",
      "\n",
      "Epoch 00012: val_categorical_accuracy did not improve from 0.56605\n",
      "Epoch 13/25\n",
      "75/75 [==============================] - 7s 94ms/step - loss: 21.1894 - categorical_accuracy: 0.5567 - val_loss: 21.0651 - val_categorical_accuracy: 0.5644\n",
      "\n",
      "Epoch 00013: val_categorical_accuracy did not improve from 0.56605\n",
      "\n",
      "Epoch 00013: ReduceLROnPlateau reducing learning rate to 1e-05.\n",
      "Epoch 14/25\n",
      "75/75 [==============================] - 7s 99ms/step - loss: 21.2519 - categorical_accuracy: 0.5528 - val_loss: 21.2133 - val_categorical_accuracy: 0.5552\n",
      "\n",
      "Epoch 00014: val_categorical_accuracy did not improve from 0.56605\n",
      "Epoch 15/25\n",
      "75/75 [==============================] - 9s 120ms/step - loss: 21.2610 - categorical_accuracy: 0.5522 - val_loss: 21.3750 - val_categorical_accuracy: 0.5452\n",
      "\n",
      "Epoch 00015: val_categorical_accuracy did not improve from 0.56605\n",
      "Epoch 16/25\n",
      "75/75 [==============================] - 7s 99ms/step - loss: 21.2164 - categorical_accuracy: 0.5550 - val_loss: 21.1325 - val_categorical_accuracy: 0.5602\n",
      "\n",
      "Epoch 00016: val_categorical_accuracy did not improve from 0.56605\n",
      "Epoch 17/25\n",
      "75/75 [==============================] - 7s 95ms/step - loss: 21.3014 - categorical_accuracy: 0.5497 - val_loss: 21.2133 - val_categorical_accuracy: 0.5552\n",
      "\n",
      "Epoch 00017: val_categorical_accuracy did not improve from 0.56605\n",
      "Epoch 18/25\n",
      "75/75 [==============================] - 7s 93ms/step - loss: 21.0284 - categorical_accuracy: 0.5667 - val_loss: 21.1729 - val_categorical_accuracy: 0.5577\n",
      "\n",
      "Epoch 00018: val_categorical_accuracy did not improve from 0.56605\n",
      "Epoch 19/25\n",
      "75/75 [==============================] - 7s 93ms/step - loss: 21.2519 - categorical_accuracy: 0.5528 - val_loss: 21.2672 - val_categorical_accuracy: 0.5518\n",
      "\n",
      "Epoch 00019: val_categorical_accuracy did not improve from 0.56605\n",
      "Epoch 20/25\n",
      "75/75 [==============================] - 8s 101ms/step - loss: 21.2387 - categorical_accuracy: 0.5536 - val_loss: 21.1594 - val_categorical_accuracy: 0.5585\n",
      "\n",
      "Epoch 00020: val_categorical_accuracy did not improve from 0.56605\n",
      "Epoch 21/25\n",
      "75/75 [==============================] - 7s 94ms/step - loss: 21.2656 - categorical_accuracy: 0.5519 - val_loss: 21.1594 - val_categorical_accuracy: 0.5585\n",
      "\n",
      "Epoch 00021: val_categorical_accuracy did not improve from 0.56605\n",
      "Epoch 22/25\n",
      "75/75 [==============================] - 7s 96ms/step - loss: 21.1222 - categorical_accuracy: 0.5608 - val_loss: 21.4020 - val_categorical_accuracy: 0.5435\n",
      "\n",
      "Epoch 00022: val_categorical_accuracy did not improve from 0.56605\n",
      "Epoch 23/25\n",
      "75/75 [==============================] - 7s 94ms/step - loss: 21.4716 - categorical_accuracy: 0.5392 - val_loss: 21.1998 - val_categorical_accuracy: 0.5560\n",
      "\n",
      "Epoch 00023: val_categorical_accuracy did not improve from 0.56605\n",
      "Epoch 24/25\n",
      "75/75 [==============================] - 7s 95ms/step - loss: 21.2656 - categorical_accuracy: 0.5519 - val_loss: 21.4289 - val_categorical_accuracy: 0.5418\n",
      "\n",
      "Epoch 00024: val_categorical_accuracy did not improve from 0.56605\n",
      "Epoch 25/25\n",
      "75/75 [==============================] - 7s 93ms/step - loss: 20.9209 - categorical_accuracy: 0.5733 - val_loss: 21.0516 - val_categorical_accuracy: 0.5652\n",
      "\n",
      "Epoch 00025: val_categorical_accuracy did not improve from 0.56605\n"
     ]
    }
   ],
   "source": [
    "#training\n",
    "history = model.fit_generator(\n",
    "    train_it,\n",
    "    steps_per_epoch = train_it.samples // BS,\n",
    "    validation_data = val_it, \n",
    "    validation_steps = val_it.samples // BS,\n",
    "    epochs = 25,\n",
    "    callbacks = [ cpcb, reduce_lr ]\n",
    ")"
   ]
  },
  {
   "cell_type": "code",
   "execution_count": 81,
   "metadata": {
    "scrolled": true
   },
   "outputs": [
    {
     "data": {
      "image/png": "[encoded data removed]",
      "text/plain": [
       "<Figure size 864x216 with 2 Axes>"
      ]
     },
     "metadata": {
      "needs_background": "light"
     },
     "output_type": "display_data"
    }
   ],
   "source": [
    "plt.figure(figsize=(12,3))\n",
    "plt.subplot(1,2,1)\n",
    "plt.plot(history.history['loss'])\n",
    "plt.plot(history.history['val_loss'])\n",
    "plt.title(\"Finetuning Loss - Gender - (tried adam)\")\n",
    "plt.legend([\"train\",\"val\"])\n",
    "plt.subplot(1,2,2)\n",
    "plt.plot(history.history['categorical_accuracy'])\n",
    "plt.plot(history.history['val_categorical_accuracy'])\n",
    "plt.title(\"Finetuning Accuracy - Gender\")\n",
    "plt.legend([\"train\",\"val\"])\n",
    "plt.savefig(model_filename+str(model_number)+\".training.png\")\n",
    "plt.show()\n"
   ]
  },
  {
   "cell_type": "code",
   "execution_count": 82,
   "metadata": {},
   "outputs": [],
   "source": [
    "#save matlab file with training history for error bar construction later!\n",
    "scipy.io.savemat(model_filename+str(model_number)+'.history.mat', history.history)"
   ]
  },
  {
   "cell_type": "code",
   "execution_count": 83,
   "metadata": {},
   "outputs": [],
   "source": [
    "#next!\n",
    "model_number += 1;"
   ]
  },
  {
   "cell_type": "code",
   "execution_count": null,
   "metadata": {},
   "outputs": [],
   "source": []
  }
 ],
 "metadata": {
  "kernelspec": {
   "display_name": "Python 3",
   "language": "python",
   "name": "python3"
  },
  "language_info": {
   "codemirror_mode": {
    "name": "ipython",
    "version": 3
   },
   "file_extension": ".py",
   "mimetype": "text/x-python",
   "name": "python",
   "nbconvert_exporter": "python",
   "pygments_lexer": "ipython3",
   "version": "3.6.0"
  }
 },
 "nbformat": 4,
 "nbformat_minor": 2
}
